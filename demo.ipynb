{
 "cells": [
  {
   "cell_type": "code",
   "execution_count": 60,
   "metadata": {},
   "outputs": [],
   "source": [
    "# Import Necessay Libraries.\n",
    "\n",
    "from flask import Flask, render_template, jsonify, request\n",
    "import datetime\n",
    "from hashlib import sha256\n",
    "import json\n",
    "from pprint import pprint"
   ]
  },
  {
   "cell_type": "code",
   "execution_count": 61,
   "metadata": {},
   "outputs": [],
   "source": [
    "# Class implementation for Block.\n",
    "\n",
    "class Block:\n",
    "    \"\"\"\n",
    "    Block representing a single block in a blockchain.\n",
    "\n",
    "    Attributes:\n",
    "        index (int): Block's unique index within the chain.\n",
    "        data (str): Data stored in the block.\n",
    "        timestamp (str): ISO 8601 timestamp of block creation.\n",
    "        previous_hash (str): Hash of the previous block.\n",
    "        nonce (int): Nonce used for Proof-of-Work (PoW).\n",
    "        hash (str): Calculated SHA-256 hash of the block.\n",
    "        is_valid (bool): Flag indicating block validity.\n",
    "    \"\"\"\n",
    "\n",
    "    def __init__(self, index, data, timestamp, previous_hash):\n",
    "        \"\"\"Block constructor.\"\"\"\n",
    "        self.index = index  # Index of the block.\n",
    "        self.data = data  # Data of the block.\n",
    "        self.timestamp = (\n",
    "            timestamp.isoformat()\n",
    "            if isinstance(timestamp, datetime.datetime)\n",
    "            else timestamp\n",
    "        )  # Timestamp of the block.\n",
    "        self.previous_hash = previous_hash  # Hash of the previous block.\n",
    "        self.nonce = 0  # Nonce of the block\n",
    "        self.hash = self.proof_of_work(Blockchain.difficulty) #  Proof-of-work.\n",
    "        self.is_valid = True  # Initially every block is valid.\n",
    "\n",
    "    def compute_hash(self):\n",
    "        \"\"\"Compute Hash of the block.\"\"\"\n",
    "        block_string = json.dumps(self.__dict__, sort_keys=True) # Block dictionary on which hash is computed.\n",
    "        return sha256(block_string.encode()).hexdigest() # SHA-256 hash of the block.\n",
    "\n",
    "    def proof_of_work(self, difficulty):\n",
    "        \"\"\"Proof-of-work of the block.\"\"\"\n",
    "        self.nonce = 0 # Nonce of the block.\n",
    "        computed_hash = self.compute_hash() \n",
    "        while not computed_hash.startswith(\"0\" * difficulty):\n",
    "            self.nonce += 1\n",
    "            computed_hash = self.compute_hash()\n",
    "        return computed_hash\n",
    "\n",
    "    def update_data(self, new_data, blockchain):\n",
    "        self.data = new_data\n",
    "        self.hash = self.compute_hash()\n",
    "        self.is_valid = False\n",
    "        # Mark all subsequent blocks as invalid\n",
    "        current_block = self\n",
    "        while current_block.index + 1 < len(blockchain.chain):\n",
    "            next_block = blockchain.chain[current_block.index + 1]\n",
    "            next_block.previous_hash = current_block.hash  # Update previous_hash to new hash\n",
    "            next_block.hash = next_block.compute_hash()  # Recompute hash as it depends on previous_hash\n",
    "            next_block.is_valid = False  # Each subsequent block also becomes invalid\n",
    "            current_block = next_block"
   ]
  },
  {
   "cell_type": "code",
   "execution_count": 62,
   "metadata": {},
   "outputs": [],
   "source": [
    "class Blockchain:\n",
    "    \"\"\"Blockchain implementation that ensures data integrity through PoW.\n",
    "\n",
    "    Attributes:\n",
    "        chain (list[Block]): The list of blocks forming the blockchain.\n",
    "        difficulty (int): The difficulty level for Proof-of-Work (PoW).\n",
    "\n",
    "    Methods:\n",
    "        create_genesis_block(): Creates the initial block (genesis block)\n",
    "                                in the blockchain.\n",
    "        last_block (property): Returns the last block in the chain.\n",
    "        add_block(data): Adds a new block containing the given data to the\n",
    "                         end of the chain.\n",
    "        is_block_valid(block): Validates the integrity of a block based on\n",
    "                                PoW, previous hash, and internal validity flag.\n",
    "        is_chain_valid(self): Validates the entire blockchain by checking\n",
    "                              the validity of each block.\n",
    "    \"\"\"\n",
    "    difficulty = 3\n",
    "\n",
    "    def __init__(self):\n",
    "        self.chain = []\n",
    "        self.create_genesis_block()\n",
    "\n",
    "    def create_genesis_block(self):\n",
    "        \"\"\"Genesis block creation.\"\"\"\n",
    "        genesis_block = Block(0, \"Genesis Block\", datetime.datetime.now(), \"0\") # Instantiate a new genesis block.\n",
    "        genesis_block.hash = genesis_block.proof_of_work(Blockchain.difficulty) # Compute Hash of the genesis block.\n",
    "        self.chain.append(genesis_block) # Add block to the chain.\n",
    "\n",
    "    @property\n",
    "    def last_block(self):\n",
    "        \"\"\"Return Last Block of the chain.\"\"\"\n",
    "        return self.chain[-1]\n",
    "\n",
    "    def add_block(self, data):\n",
    "        \"\"\"Add new block to the chain.\"\"\"\n",
    "        new_block = Block(\n",
    "            len(self.chain), data, datetime.datetime.now(), self.last_block.hash\n",
    "        ) # Instantiate new block.\n",
    "        new_block.hash = new_block.proof_of_work(Blockchain.difficulty) # Compute hash.\n",
    "        new_block.is_valid = self.is_block_valid(new_block)  # Validity check of new block.\n",
    "        self.chain.append(new_block) # Add block to chain.\n",
    "\n",
    "    def is_block_valid(self, block):\n",
    "        if block.index == 0:\n",
    "            return block.hash.startswith(\"0\" * self.difficulty) and block.previous_hash == \"0\"\n",
    "        previous_block = self.chain[block.index - 1]\n",
    "        valid_link = block.previous_hash == previous_block.hash\n",
    "        valid_pow = block.hash.startswith(\"0\" * self.difficulty)\n",
    "        block.is_valid = valid_link and valid_pow and block.is_valid\n",
    "        return block.is_valid\n",
    "\n",
    "    def is_chain_valid(self):\n",
    "        for block in self.chain:\n",
    "            if not self.is_block_valid(block):\n",
    "                return False\n",
    "        return True"
   ]
  },
  {
   "cell_type": "code",
   "execution_count": 63,
   "metadata": {},
   "outputs": [],
   "source": [
    "blockchain = Blockchain() # Instantiate the Blockchain."
   ]
  },
  {
   "cell_type": "code",
   "execution_count": 64,
   "metadata": {},
   "outputs": [
    {
     "data": {
      "text/plain": [
       "{'index': 0,\n",
       " 'data': 'Genesis Block',\n",
       " 'timestamp': '2024-05-12T11:16:32.618331',\n",
       " 'previous_hash': '0',\n",
       " 'nonce': 5425,\n",
       " 'hash': '0005704b2f4043b47fab6b484b356944b4b5a4b79d437f9dfc47746a774d75a0',\n",
       " 'is_valid': True}"
      ]
     },
     "execution_count": 64,
     "metadata": {},
     "output_type": "execute_result"
    }
   ],
   "source": [
    "blockchain.chain[0].__dict__  # Genesis Block."
   ]
  },
  {
   "cell_type": "code",
   "execution_count": 65,
   "metadata": {},
   "outputs": [],
   "source": [
    "blockchain.add_block(\"BlockData1\") # Add New Block."
   ]
  },
  {
   "cell_type": "code",
   "execution_count": 66,
   "metadata": {},
   "outputs": [
    {
     "name": "stdout",
     "output_type": "stream",
     "text": [
      "{'index': 0,\n",
      " 'data': 'Genesis Block',\n",
      " 'timestamp': '2024-05-12T11:16:32.618331',\n",
      " 'previous_hash': '0',\n",
      " 'nonce': 5425,\n",
      " 'hash': '0005704b2f4043b47fab6b484b356944b4b5a4b79d437f9dfc47746a774d75a0',\n",
      " 'is_valid': True}\n",
      "\n",
      "{'index': 1,\n",
      " 'data': 'BlockData1',\n",
      " 'timestamp': '2024-05-12T11:16:32.733516',\n",
      " 'previous_hash': '0005704b2f4043b47fab6b484b356944b4b5a4b79d437f9dfc47746a774d75a0',\n",
      " 'nonce': 12046,\n",
      " 'hash': '000af640ca33edc0214981dcf5fd2a454f5644dafa93f8bfa7e378e777169b89',\n",
      " 'is_valid': True}\n",
      "\n"
     ]
    }
   ],
   "source": [
    "for i in range(len(blockchain.chain)):\n",
    "    pprint(blockchain.chain[i].__dict__, sort_dicts=False)\n",
    "    print()"
   ]
  },
  {
   "cell_type": "code",
   "execution_count": 67,
   "metadata": {},
   "outputs": [],
   "source": [
    "blockchain.add_block(\"BlockData2\") # Add New Block.\n",
    "blockchain.add_block(\"BlockData3\") # Add New Block."
   ]
  },
  {
   "cell_type": "code",
   "execution_count": 68,
   "metadata": {},
   "outputs": [
    {
     "name": "stdout",
     "output_type": "stream",
     "text": [
      "{'index': 0,\n",
      " 'data': 'Genesis Block',\n",
      " 'timestamp': '2024-05-12T11:16:32.618331',\n",
      " 'previous_hash': '0',\n",
      " 'nonce': 5425,\n",
      " 'hash': '0005704b2f4043b47fab6b484b356944b4b5a4b79d437f9dfc47746a774d75a0',\n",
      " 'is_valid': True}\n",
      "\n",
      "{'index': 1,\n",
      " 'data': 'BlockData1',\n",
      " 'timestamp': '2024-05-12T11:16:32.733516',\n",
      " 'previous_hash': '0005704b2f4043b47fab6b484b356944b4b5a4b79d437f9dfc47746a774d75a0',\n",
      " 'nonce': 12046,\n",
      " 'hash': '000af640ca33edc0214981dcf5fd2a454f5644dafa93f8bfa7e378e777169b89',\n",
      " 'is_valid': True}\n",
      "\n",
      "{'index': 2,\n",
      " 'data': 'BlockData2',\n",
      " 'timestamp': '2024-05-12T11:16:32.909153',\n",
      " 'previous_hash': '000af640ca33edc0214981dcf5fd2a454f5644dafa93f8bfa7e378e777169b89',\n",
      " 'nonce': 1148,\n",
      " 'hash': '000c015f15a1e340b766a44ec2cb8499f9cd4071f4082c79f33fad3fb546ef76',\n",
      " 'is_valid': True}\n",
      "\n",
      "{'index': 3,\n",
      " 'data': 'BlockData3',\n",
      " 'timestamp': '2024-05-12T11:16:32.923299',\n",
      " 'previous_hash': '000c015f15a1e340b766a44ec2cb8499f9cd4071f4082c79f33fad3fb546ef76',\n",
      " 'nonce': 4524,\n",
      " 'hash': '000c0eb7de684ef7d49e68d89745a1f3d11edec6de847974230821e3a9a5fc4b',\n",
      " 'is_valid': True}\n",
      "\n"
     ]
    }
   ],
   "source": [
    "for i in range(len(blockchain.chain)):\n",
    "    pprint(blockchain.chain[i].__dict__, sort_dicts=False)\n",
    "    print()"
   ]
  },
  {
   "cell_type": "code",
   "execution_count": 70,
   "metadata": {},
   "outputs": [
    {
     "data": {
      "text/plain": [
       "False"
      ]
     },
     "execution_count": 70,
     "metadata": {},
     "output_type": "execute_result"
    }
   ],
   "source": [
    "blockchain.chain[1].update_data(\"ManipulatedBlockData1\", blockchain)\n",
    "blockchain.is_chain_valid()"
   ]
  },
  {
   "cell_type": "code",
   "execution_count": 71,
   "metadata": {},
   "outputs": [
    {
     "name": "stdout",
     "output_type": "stream",
     "text": [
      "{'index': 0,\n",
      " 'data': 'Genesis Block',\n",
      " 'timestamp': '2024-05-12T11:16:32.618331',\n",
      " 'previous_hash': '0',\n",
      " 'nonce': 5425,\n",
      " 'hash': '0005704b2f4043b47fab6b484b356944b4b5a4b79d437f9dfc47746a774d75a0',\n",
      " 'is_valid': True}\n",
      "\n",
      "{'index': 1,\n",
      " 'data': 'ManipulatedBlockData1',\n",
      " 'timestamp': '2024-05-12T11:16:32.733516',\n",
      " 'previous_hash': '0005704b2f4043b47fab6b484b356944b4b5a4b79d437f9dfc47746a774d75a0',\n",
      " 'nonce': 12046,\n",
      " 'hash': 'e81465c3513e1f9d4062c2a371c48e2efb0f328dd2a1d6497652adfdb07556fe',\n",
      " 'is_valid': False}\n",
      "\n",
      "{'index': 2,\n",
      " 'data': 'BlockData2',\n",
      " 'timestamp': '2024-05-12T11:16:32.909153',\n",
      " 'previous_hash': 'e81465c3513e1f9d4062c2a371c48e2efb0f328dd2a1d6497652adfdb07556fe',\n",
      " 'nonce': 1148,\n",
      " 'hash': 'e60471c5c96a696ec552ff440753d8f7c85191ced30ffa66213c325db651f31f',\n",
      " 'is_valid': False}\n",
      "\n",
      "{'index': 3,\n",
      " 'data': 'BlockData3',\n",
      " 'timestamp': '2024-05-12T11:16:32.923299',\n",
      " 'previous_hash': 'e60471c5c96a696ec552ff440753d8f7c85191ced30ffa66213c325db651f31f',\n",
      " 'nonce': 4524,\n",
      " 'hash': '26d82f4bc3c9259bfcb2962e5d5ddd0eb8bcb61e2c015dd2003d0d0a6720566b',\n",
      " 'is_valid': False}\n",
      "\n"
     ]
    }
   ],
   "source": [
    "for i in range(len(blockchain.chain)):\n",
    "    pprint(blockchain.chain[i].__dict__, sort_dicts=False)\n",
    "    print()"
   ]
  }
 ],
 "metadata": {
  "kernelspec": {
   "display_name": "Python 3",
   "language": "python",
   "name": "python3"
  },
  "language_info": {
   "codemirror_mode": {
    "name": "ipython",
    "version": 3
   },
   "file_extension": ".py",
   "mimetype": "text/x-python",
   "name": "python",
   "nbconvert_exporter": "python",
   "pygments_lexer": "ipython3",
   "version": "3.11.6"
  }
 },
 "nbformat": 4,
 "nbformat_minor": 2
}
